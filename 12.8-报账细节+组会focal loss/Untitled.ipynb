{
 "cells": [
  {
   "cell_type": "markdown",
   "metadata": {},
   "source": [
    "## 一、报账细节\n",
    "### 1. 建账单一式两份，找实验教学中心张玉龙老师签字\n",
    "### 2. 电子验收单找学院三位在职老师签字\n",
    "### 3. 电子验收单，两份建账单，报销单，合同。同意在倪老师处盖章。\n",
    "### 4. 主e206，资产处，凭发票，建账申请单办资产入库，留一份建账单送回学院。\n",
    "### 5. 主e206，报销处，凭资产入库单（蓝色）、发票（含发票验伪）、报销申请单办理报销， 完了打包资料扫二维码。\n",
    "\n",
    "## 二、Focal Loss for Dense Object Detection\n",
    "### 提出Single stage detector不好的原因完全在于：\n",
    "### A.极度不平衡的正负样本比例: anchor近似于sliding window的方式会使正负样本接近1000：1，而且绝大部分负样本都是easy example，这就导致下面一个问题：\n",
    "### B.gradient被easy example dominant的问题：往往这些easy example虽然loss很低，但由于数  量众多，对于loss依旧有很大贡献，从而导致收敛到不够好的一个结果。\n",
    "\n",
    "### 提出的Focal Loss是动态缩放的交叉熵损失函数，随着正确类的置信度上升缩放因子下降，就啥直接按照loss decay掉那些easy example的权重，这样使训练更加bias到更有意义的样本中去。如下图：\n",
    "![](https://github.com/xx674967/notebook/blob/master/12.8/v2-a8d898d1dc07226b01a66c8226c93845_hd.jpg?raw=true)\n",
    "\n",
    "\n"
   ]
  },
  {
   "cell_type": "code",
   "execution_count": null,
   "metadata": {
    "collapsed": true
   },
   "outputs": [],
   "source": []
  }
 ],
 "metadata": {
  "kernelspec": {
   "display_name": "Python 3",
   "language": "python",
   "name": "python3"
  },
  "language_info": {
   "codemirror_mode": {
    "name": "ipython",
    "version": 3
   },
   "file_extension": ".py",
   "mimetype": "text/x-python",
   "name": "python",
   "nbconvert_exporter": "python",
   "pygments_lexer": "ipython3",
   "version": "3.6.3"
  }
 },
 "nbformat": 4,
 "nbformat_minor": 2
}
