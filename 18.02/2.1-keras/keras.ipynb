{
 "cells": [
  {
   "cell_type": "markdown",
   "metadata": {},
   "source": [
    "## 快速上手指南\n",
    "\n",
    "    Keras的核心数据结构是“模型”，模型是一种组织网络层的方式。Keras中主要的模型是Sequential模型，Sequential是一系列网络层按顺序构成的栈。你也可以查看函数式模型来学习建立更复杂的模型\n",
    "    Sequential模型如下:\n",
    "    from keras.models import Sequential\n",
    "    model = Sequential()\n",
    "    将一些网络层通过.add()堆叠起来，就构成了一个模型：\n",
    "    from keras.layers import Dense, Activation\n",
    "    model.add(Dense(units=64, input_dim=100))\n",
    "    model.add(Activation(\"relu\"))\n",
    "    model.add(Dense(units=10))\n",
    "    model.add(Activation(\"softmax\"))\n",
    "    完成模型的搭建后，我们需要使用.compile()方法来编译模型：\n",
    "    model.compile(loss='categorical_crossentropy', optimizer='sgd', metrics=['accuracy'])\n",
    "    编译模型时必须指明损失函数和优化器，如果你需要的话，也可以自己定制损失函数。Keras的一个核心理念就是简明易用，同时保证用户对Keras的绝对控制力度，用户可以根据自己的需要定制自己的模型、网络层，甚至修改源代码。\n",
    "    from keras.optimizers import SGD\n",
    "    model.compile(loss='categorical_crossentropy', optimizer=SGD(lr=0.01, momentum=0.9, nesterov=True))\n",
    "    完成模型编译后，我们在训练数据上按batch进行一定次数的迭代来训练网络:\n",
    "    model.fit(x_train, y_train, epochs=5, batch_size=32)\n",
    "    当然，我们也可以手动将一个个batch的数据送入网络中训练，这时候需要使用：\n",
    "    model.train_on_batch(x_batch, y_batch)"
   ]
  },
  {
   "cell_type": "code",
   "execution_count": null,
   "metadata": {
    "collapsed": true
   },
   "outputs": [],
   "source": []
  }
 ],
 "metadata": {
  "kernelspec": {
   "display_name": "Python 3",
   "language": "python",
   "name": "python3"
  },
  "language_info": {
   "codemirror_mode": {
    "name": "ipython",
    "version": 3
   },
   "file_extension": ".py",
   "mimetype": "text/x-python",
   "name": "python",
   "nbconvert_exporter": "python",
   "pygments_lexer": "ipython3",
   "version": "3.6.3"
  }
 },
 "nbformat": 4,
 "nbformat_minor": 2
}
