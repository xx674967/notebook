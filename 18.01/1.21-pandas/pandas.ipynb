{
 "cells": [
  {
   "cell_type": "markdown",
   "metadata": {},
   "source": [
    "## pandas 基本数据结构 series \n",
    "    series 就是给数组加了一个索引id,变成一个tuple(id,value)\n",
    "    比如 filename 这个series 中的值为 (19576, u'image/val2014_resized/COCO_val2014_000000116696.jpg')\n",
    "    初始化series obj = Series([4, 7, -5, 3])\n",
    "    遍历名字为col的series    for i in col.iteritems():\n",
    "                                print j[0] # j[0] j[1] 分别啥id和value\n",
    "## pandas 基本数据结构 DataFrame\n",
    "    DataFrame 可以看做是series的字典,(里面存放 id series) 比如 data中的[(0,file_name),(1,image_id),(2,caption)]\n",
    "    初始化 DataFrame\n",
    "                        caption_data = pd.DataFrame.from_dict(data) #这里data是 [{},{},{}]\n",
    "    遍历 DataFrame:\n",
    "            for c, col in annotations.iteritems(): #其中c是DataFrame中series的名称,col 是每个series的值\n",
    "                if c == 'file_name':    \n",
    "                    for j in col.iteritems():   # 遍历名字为file_name的series\n",
    "                        print j\n",
    "#### 参考:http://blog.csdn.net/pipisorry/article/details/18010307\n",
    "    \n",
    "    "
   ]
  },
  {
   "cell_type": "code",
   "execution_count": null,
   "metadata": {
    "collapsed": true
   },
   "outputs": [],
   "source": []
  }
 ],
 "metadata": {
  "kernelspec": {
   "display_name": "Python 3",
   "language": "python",
   "name": "python3"
  },
  "language_info": {
   "codemirror_mode": {
    "name": "ipython",
    "version": 3
   },
   "file_extension": ".py",
   "mimetype": "text/x-python",
   "name": "python",
   "nbconvert_exporter": "python",
   "pygments_lexer": "ipython3",
   "version": "3.6.3"
  }
 },
 "nbformat": 4,
 "nbformat_minor": 2
}
