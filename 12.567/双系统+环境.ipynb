{
 "cells": [
  {
   "cell_type": "markdown",
   "metadata": {},
   "source": [
    "## 12.5 \n",
    "#### 以前装过用的grub引导感觉不太好，这次试了用UEFI引导。中间有很多坑，导致重装了三次win10和ubuntu。\n",
    "#### 看了很多教程，这个最靠谱：http://blog.csdn.net/demonliuhui/article/details/77483523\n",
    "\n",
    "## 12.6 \n",
    "#### 安装CUDA 用的runfile，cudnn6.0 py用的3.6 tf1.3\n",
    "#### 以前import会有 Saccessfully open CUDA。。。。查了很多 有些人说TF1.2以后没了那个提醒 不过貌似不影响gpu工作 这个问题明天再试试"
   ]
  },
  {
   "cell_type": "code",
   "execution_count": null,
   "metadata": {
    "collapsed": true
   },
   "outputs": [],
   "source": []
  }
 ],
 "metadata": {
  "kernelspec": {
   "display_name": "Python 3",
   "language": "python",
   "name": "python3"
  },
  "language_info": {
   "codemirror_mode": {
    "name": "ipython",
    "version": 3
   },
   "file_extension": ".py",
   "mimetype": "text/x-python",
   "name": "python",
   "nbconvert_exporter": "python",
   "pygments_lexer": "ipython3",
   "version": "3.6.3"
  }
 },
 "nbformat": 4,
 "nbformat_minor": 2
}
