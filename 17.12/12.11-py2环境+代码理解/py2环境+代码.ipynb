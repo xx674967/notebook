{
 "cells": [
  {
   "cell_type": "markdown",
   "metadata": {},
   "source": [
    "## conda管理多环境python\n",
    "#### 用py3 做了一半，发现需要改的太多了。干脆直接用conda新建一个py2的环境，conda create -n test_py2 python=2.7  其中test_py2是环境的名字，切换环境 source activate test_py2\n",
    "#### 切换到当前py2的环境，安装tensorflow1.3-2.7，用pip安装pillow matplotlib scipy hickle等包，最后给py2环境安装spyder\n",
    "\n",
    "## 文章关键点记录\n",
    "#### 输入图片 取中间层特征14X14X512，这里特征$a_i$是521维，大小为14X14=196个，描述图像的不同区域。为了更好的描述图片局部区域所以本文采取较低层的特征。\n",
    "#### context生成 $a_i-->z_t$ context 用$z_t$表示，是a的加权和。$z_t={\\alpha}^T_i*a$所以它也啥D维，大小是C个，表示当前单词对应的上下文。\n",
    "#### 权重alpha196维，表示每个像素位置获得的关注。\n",
    "\n"
   ]
  },
  {
   "cell_type": "code",
   "execution_count": null,
   "metadata": {
    "collapsed": true
   },
   "outputs": [],
   "source": []
  }
 ],
 "metadata": {
  "kernelspec": {
   "display_name": "Python 3",
   "language": "python",
   "name": "python3"
  },
  "language_info": {
   "codemirror_mode": {
    "name": "ipython",
    "version": 3
   },
   "file_extension": ".py",
   "mimetype": "text/x-python",
   "name": "python",
   "nbconvert_exporter": "python",
   "pygments_lexer": "ipython3",
   "version": "3.6.3"
  }
 },
 "nbformat": 4,
 "nbformat_minor": 2
}
