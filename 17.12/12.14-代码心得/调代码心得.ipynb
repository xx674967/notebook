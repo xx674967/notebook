{
 "cells": [
  {
   "cell_type": "markdown",
   "metadata": {},
   "source": [
    "## 一个简单的问题折腾了半天。（作者把测试ltsm隐变量参数改了）。。不知道为什么\n",
    "## anyway ,代码终于ok了。。。\n",
    "## tensorboard test等各项评价标准 一切运作正常，接下来的工作就是要仔细的看懂文章 看懂代码。把文章和代码对应上。才能改进。\n",
    "## tf.saver 参考http://blog.csdn.net/u011500062/article/details/51728830\n",
    "## 中间还有一些问题网页都关了。。。\n",
    "## 最重要的总结：出问题优先google，看stackoverflow。"
   ]
  },
  {
   "cell_type": "code",
   "execution_count": null,
   "metadata": {
    "collapsed": true
   },
   "outputs": [],
   "source": []
  }
 ],
 "metadata": {
  "kernelspec": {
   "display_name": "Python 3",
   "language": "python",
   "name": "python3"
  },
  "language_info": {
   "codemirror_mode": {
    "name": "ipython",
    "version": 3
   },
   "file_extension": ".py",
   "mimetype": "text/x-python",
   "name": "python",
   "nbconvert_exporter": "python",
   "pygments_lexer": "ipython3",
   "version": "3.6.3"
  }
 },
 "nbformat": 4,
 "nbformat_minor": 2
}
