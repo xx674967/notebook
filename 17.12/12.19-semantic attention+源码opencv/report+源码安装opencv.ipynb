{
 "cells": [
  {
   "cell_type": "markdown",
   "metadata": {},
   "source": [
    "## 之前的想法 在softattention机制上面加入高层语义，因为无论soft还是hard attention机制都是 考虑图片局部位置权重，本来想着加入高层语义指导lstm，结果昨天发现去年cvpr有人都做了。。。现在在想，加入一个topic属性，输入lstm，感觉别人做了好多。要多看看。和朱多商量商量。\n",
    "\n",
    "## 目前参考了这几篇\n",
    "    1.What Value Do Explicit High Level Concepts Havein Vision to Language Problems?\n",
    "    2.Image Captioning with Semantic Attention\n",
    "    3.Guiding Long-Short Term Memory for Image Caption Generation\n",
    "## 源码安装opencv3.2\n",
    "## 参考\n",
    "    http://blog.csdn.net/cyn618/article/details/64494434"
   ]
  },
  {
   "cell_type": "code",
   "execution_count": null,
   "metadata": {
    "collapsed": true
   },
   "outputs": [],
   "source": []
  }
 ],
 "metadata": {
  "kernelspec": {
   "display_name": "Python 3",
   "language": "python",
   "name": "python3"
  },
  "language_info": {
   "codemirror_mode": {
    "name": "ipython",
    "version": 3
   },
   "file_extension": ".py",
   "mimetype": "text/x-python",
   "name": "python",
   "nbconvert_exporter": "python",
   "pygments_lexer": "ipython3",
   "version": "3.6.3"
  }
 },
 "nbformat": 4,
 "nbformat_minor": 2
}
