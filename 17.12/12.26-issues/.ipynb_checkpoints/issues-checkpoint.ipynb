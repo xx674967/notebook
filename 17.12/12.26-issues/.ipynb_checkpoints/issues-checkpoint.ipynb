{
 "cells": [
  {
   "cell_type": "markdown",
   "metadata": {},
   "source": [
    "## 问题\n",
    "    Aligning where to see and what to tell本来想用文中的topic向量,但是attention代码给filename,caption,image_id,均对应一个索引.而且是sort过的,开始想着去找人家生成的topic.h5中的索引信息,看了很久代码...发现貌似不能直接用,不仅仅因为索引问题,还有语料库大小不一样,这篇文字 topic vector实在lstm的门中加入.我们想在attention的context vector之后直接与topic vector做一个concatenate.\n",
    "## 下一步计划\n",
    "    下一步先好好屡屡attention代码的compute部分.topic既然直接用不了,就想办法生成与我们代码匹配的topic vector."
   ]
  },
  {
   "cell_type": "code",
   "execution_count": null,
   "metadata": {
    "collapsed": true
   },
   "outputs": [],
   "source": []
  }
 ],
 "metadata": {
  "kernelspec": {
   "display_name": "Python 3",
   "language": "python",
   "name": "python3"
  },
  "language_info": {
   "codemirror_mode": {
    "name": "ipython",
    "version": 3
   },
   "file_extension": ".py",
   "mimetype": "text/x-python",
   "name": "python",
   "nbconvert_exporter": "python",
   "pygments_lexer": "ipython3",
   "version": "3.6.3"
  }
 },
 "nbformat": 4,
 "nbformat_minor": 2
}
