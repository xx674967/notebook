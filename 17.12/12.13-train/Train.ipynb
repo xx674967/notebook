{
 "cells": [
  {
   "cell_type": "markdown",
   "metadata": {},
   "source": [
    "## 多核jupyter\n",
    "    本例的Jupyter安装在Python3下，以增加Python2内核为例。首先确认在Python3下已安装了内核：ipython kernel install --user\n",
    "    然后确保Python2下安装了ipykernel：sudo pip2 install -U ipykernel\n",
    "    然后运行：python2 -m ipykernel install --user\n",
    "## 训练结束了 "
   ]
  },
  {
   "cell_type": "code",
   "execution_count": null,
   "metadata": {
    "collapsed": true
   },
   "outputs": [],
   "source": []
  }
 ],
 "metadata": {
  "kernelspec": {
   "display_name": "Python 3",
   "language": "python",
   "name": "python3"
  },
  "language_info": {
   "codemirror_mode": {
    "name": "ipython",
    "version": 3
   },
   "file_extension": ".py",
   "mimetype": "text/x-python",
   "name": "python",
   "nbconvert_exporter": "python",
   "pygments_lexer": "ipython3",
   "version": "3.6.3"
  }
 },
 "nbformat": 4,
 "nbformat_minor": 2
}
