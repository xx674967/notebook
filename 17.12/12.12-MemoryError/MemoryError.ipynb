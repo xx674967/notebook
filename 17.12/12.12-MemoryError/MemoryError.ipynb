{
 "cells": [
  {
   "cell_type": "markdown",
   "metadata": {},
   "source": [
    "## load hickle文件会返回一个 numpy array,导致内存溢出，修改代码使用少量数据集\n",
    "    train_cutoff = int(0.2*len(train_dataset))\n",
    "    #save_pickle(train_dataset, 'data/train/train.annotations.pkl')\n",
    "    save_pickle(train_dataset[:train_cutoff], 'data/train/train.annotations.pkl')\n",
    "## 因为代码是tf 0.X TF1.0后很多API都修改了 。。。。参考http://www.bubuko.com/infodetail-2261322.html\n"
   ]
  }
 ],
 "metadata": {
  "kernelspec": {
   "display_name": "Python 3",
   "language": "python",
   "name": "python3"
  },
  "language_info": {
   "codemirror_mode": {
    "name": "ipython",
    "version": 3
   },
   "file_extension": ".py",
   "mimetype": "text/x-python",
   "name": "python",
   "nbconvert_exporter": "python",
   "pygments_lexer": "ipython3",
   "version": "3.6.3"
  }
 },
 "nbformat": 4,
 "nbformat_minor": 2
}
