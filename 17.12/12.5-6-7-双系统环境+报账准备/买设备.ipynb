{
 "cells": [
  {
   "cell_type": "markdown",
   "metadata": {},
   "source": [
    "## 竞价网购买设备 收货后：1合同 2电子验收单 3发票 4发票验伪\n",
    "## 报销需要      \n",
    "## 1.报销单：财务处 综合管理平台，网上报账，日常报销，新业务填报，选择设备类型（包括名称，数目，金额），选择付款（本单选择对公转账，填写收账单位，注意核实开户行和帐号信息\n",
    "## 2.建账申请单：学校资产管理处网站，选择资产入账，填写相关信息。"
   ]
  },
  {
   "cell_type": "code",
   "execution_count": null,
   "metadata": {
    "collapsed": true
   },
   "outputs": [],
   "source": []
  }
 ],
 "metadata": {
  "kernelspec": {
   "display_name": "Python 3",
   "language": "python",
   "name": "python3"
  },
  "language_info": {
   "codemirror_mode": {
    "name": "ipython",
    "version": 3
   },
   "file_extension": ".py",
   "mimetype": "text/x-python",
   "name": "python",
   "nbconvert_exporter": "python",
   "pygments_lexer": "ipython3",
   "version": "3.6.3"
  }
 },
 "nbformat": 4,
 "nbformat_minor": 2
}
